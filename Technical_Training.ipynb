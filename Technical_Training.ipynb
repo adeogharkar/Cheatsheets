{
  "nbformat": 4,
  "nbformat_minor": 0,
  "metadata": {
    "colab": {
      "provenance": [],
      "include_colab_link": true
    },
    "kernelspec": {
      "name": "python3",
      "display_name": "Python 3"
    },
    "language_info": {
      "name": "python"
    }
  },
  "cells": [
    {
      "cell_type": "markdown",
      "metadata": {
        "id": "view-in-github",
        "colab_type": "text"
      },
      "source": [
        "<a href=\"https://colab.research.google.com/github/adeogharkar/Cheatsheets/blob/main/Technical_Training.ipynb\" target=\"_parent\"><img src=\"https://colab.research.google.com/assets/colab-badge.svg\" alt=\"Open In Colab\"/></a>"
      ]
    },
    {
      "cell_type": "code",
      "execution_count": null,
      "metadata": {
        "colab": {
          "base_uri": "https://localhost:8080/"
        },
        "id": "4GeFWZ-L32_x",
        "outputId": "98eb3508-c9bf-4ad0-e506-4e6e191defa8"
      },
      "outputs": [
        {
          "output_type": "stream",
          "name": "stdout",
          "text": [
            "Enter String1:ganesh\n",
            "Enter String2:agnesh\n",
            "is Anagram\n"
          ]
        }
      ],
      "source": [
        "\n",
        "def isAnagram(a, b):\n",
        "    if len(a) == len(b):\n",
        "        return True\n",
        "    else:\n",
        "        return False\n",
        "\n",
        "\n",
        "if __name__ == '__main__':\n",
        "    a = input(\"Enter String1:\")\n",
        "    b = input(\"Enter String2:\")\n",
        "    if(isAnagram(a, b)):\n",
        "      print(\"is Anagram\")\n",
        "    else:\n",
        "      print(\"is not Anagram\")"
      ]
    },
    {
      "cell_type": "code",
      "source": [
        "\ts1 = input(\"Enter String1:\")\n",
        "\ts2 = input(\"Enter String2:\")\n",
        "\tif(len(a) == len(b)):\n",
        "\t  print(\"is Anagram\")\n",
        "\telse:\n",
        "    count=0\n",
        "    for i in s1:\n",
        "      for j in s2:\n",
        "        count+=1\n",
        "      if count == len(s1):\n",
        "        print(\"is\")"
      ],
      "metadata": {
        "colab": {
          "base_uri": "https://localhost:8080/"
        },
        "id": "y1LU5jCZ_70r",
        "outputId": "e10d74df-3c50-430d-9797-e8d9efa08b0b"
      },
      "execution_count": null,
      "outputs": [
        {
          "output_type": "stream",
          "name": "stdout",
          "text": [
            "Enter String1:ram\n",
            "Enter String2:sam\n",
            "is Anagram\n"
          ]
        }
      ]
    },
    {
      "cell_type": "code",
      "source": [
        "\ts1 = input(\"Enter String1:\")\n",
        "\ts2 = input(\"Enter String2:\")\n",
        "\tif(len(a) != len(b)):\n",
        "\t  print(\"is not Anagram\")\n",
        "\telse:\n",
        "\n",
        "    count=0\n",
        "    for i in s1:\n",
        "     for j in s2:\n",
        "      c=0\n",
        "      a=s1[c+=1]\n",
        "      b=s2[c+=1]\n",
        "      if(a == b):\n",
        "        count=count+1\n",
        "    if count== len(s2):\n",
        "      print(\"is Anagram\")"
      ],
      "metadata": {
        "colab": {
          "base_uri": "https://localhost:8080/",
          "height": 130
        },
        "id": "QJiifyiAELVD",
        "outputId": "83317fb3-cc00-4faa-b52b-45e7742eb0b0"
      },
      "execution_count": null,
      "outputs": [
        {
          "output_type": "error",
          "ename": "SyntaxError",
          "evalue": "ignored",
          "traceback": [
            "\u001b[0;36m  File \u001b[0;32m\"<ipython-input-36-6300e32933c1>\"\u001b[0;36m, line \u001b[0;32m11\u001b[0m\n\u001b[0;31m    a=s1[c+=1]\u001b[0m\n\u001b[0m          ^\u001b[0m\n\u001b[0;31mSyntaxError\u001b[0m\u001b[0;31m:\u001b[0m invalid syntax\n"
          ]
        }
      ]
    },
    {
      "cell_type": "code",
      "source": [
        "# Practice Problem 4 - Level 1\n",
        "def find_nine(nums):\n",
        "  for i in range(len(nums)):\n",
        "    if i<4:\n",
        "      if(nums[i]==9):\n",
        "        return True\n",
        "      else:\n",
        "        return False\n",
        "  return False\n",
        "nums=[1,2,4,5,6,9]\n",
        "print(find_nine(nums))\n"
      ],
      "metadata": {
        "colab": {
          "base_uri": "https://localhost:8080/"
        },
        "id": "nheKuQcg6RBi",
        "outputId": "72dcba72-0112-4b30-a30a-3919eec5d67a"
      },
      "execution_count": null,
      "outputs": [
        {
          "output_type": "stream",
          "name": "stdout",
          "text": [
            "False\n"
          ]
        }
      ]
    },
    {
      "cell_type": "code",
      "source": [
        "# Practice Problem 5 - Level 1\n",
        "#lex_auth_0127135838317445121147\n",
        "\n",
        "def count_digits_letters(sentence):\n",
        "    result_list=[]\n",
        "    letter_count=0\n",
        "    num_count=0\n",
        "    sentence=sentence.replace(\"-\",\"\")\n",
        "    sentence=sentence.replace(\";\",\"\")\n",
        "    sentence=sentence.replace(\" \",\"\")\n",
        "    for i in sentence:\n",
        "      if (i.isdigit()):\n",
        "        letter_count+=1\n",
        "      else:\n",
        "        num_count+=1\n",
        "    result_list.append(num_count)\n",
        "    result_list.append(letter_count)\n",
        "    return result_list\n",
        "\n",
        "sentence=\"Infosys Mysore 570027\"\n",
        "print(count_digits_letters(sentence))"
      ],
      "metadata": {
        "colab": {
          "base_uri": "https://localhost:8080/"
        },
        "id": "n6Ofc8LSAYpP",
        "outputId": "489cbd78-7b3c-47a0-bd7c-89178a81c84b"
      },
      "execution_count": null,
      "outputs": [
        {
          "output_type": "stream",
          "name": "stdout",
          "text": [
            "[13, 6]\n"
          ]
        }
      ]
    },
    {
      "cell_type": "code",
      "source": [
        "# Practice Problem 8 - Level 1\n",
        "#lex_auth_0127135929511936001157\n",
        "\n",
        "def calculate_net_amount(trans_list):\n",
        "    d,w=0,0\n",
        "    net_amount=0\n",
        "    for i in trans_list:\n",
        "        n=i.split(\":\")\n",
        "        if(n[0]=='D'):\n",
        "            d=d+int(n[1])\n",
        "        else:\n",
        "            w=w+int(n[1])\n",
        "    net_amount=d-w\n",
        "    return net_amount\n",
        "\n",
        "trans_list=[\"D:300\",\"D:200\",\"W:200\",\"D:100\"]\n",
        "print(calculate_net_amount(trans_list))"
      ],
      "metadata": {
        "colab": {
          "base_uri": "https://localhost:8080/"
        },
        "id": "s5tw3L4a_3eP",
        "outputId": "4756e69d-d492-452d-a86e-d2f7bcad9a9f"
      },
      "execution_count": null,
      "outputs": [
        {
          "output_type": "stream",
          "name": "stdout",
          "text": [
            "400\n"
          ]
        }
      ]
    },
    {
      "cell_type": "code",
      "source": [
        "ls = [\"D:3000\",\"D:200\",\"W:200\",\"D:100\"]\n",
        "d=0\n",
        "w=0\n",
        "\n",
        "for i in range(len(ls)):\n",
        "  print(int(ls[i][2:]))"
      ],
      "metadata": {
        "colab": {
          "base_uri": "https://localhost:8080/"
        },
        "id": "TmHsVzO-WtZx",
        "outputId": "ff0cf506-869a-4a83-e894-7fa417228961"
      },
      "execution_count": null,
      "outputs": [
        {
          "output_type": "stream",
          "name": "stdout",
          "text": [
            "3000\n",
            "200\n",
            "200\n",
            "100\n"
          ]
        }
      ]
    },
    {
      "cell_type": "code",
      "source": [
        "# #convert from string to int\n",
        "# numbers=\"1 2 3 4 5 6\".split()\n",
        "# print(list(map(float,numbers)))\n",
        "\n",
        "\n",
        "#list on num fing sqr\n",
        "\n",
        "# def sqr(x): return x**2\n",
        "# ls=[1,2,3,4,5,6]\n",
        "# print(list(map(sqr, ls)))\n",
        "# # ans[]\n",
        "# # for in ls:\n",
        "# #   ans.append[i*i]\n",
        "\n",
        "\n",
        "\n",
        "# #u can use tuple or list\n",
        "# def to_lower(x):\n",
        "#   return chr(ord(x)+32)\n",
        "\n",
        "# def to_upper(x):\n",
        "#   return chr(ord(x)-32)\n",
        "# # text=\"python\"\n",
        "# # print(list(map(to_upper,text)))\n",
        "# # # print(chr(ord('A')+32))\n",
        "\n",
        "\n",
        "# print(\"\".join(map(to_upper,text)))\n",
        "\n",
        "# # print(\",\".join(['a','b']))\n",
        "\n",
        "\n",
        "\n",
        "# #lambda= anonyms function\n",
        "# lambda x: x**2\n",
        "# text='python'\n",
        "# print(\"\".join(map(lambda x: chr(ord(x)-32),text)))\n",
        "\n",
        "\n",
        "\n",
        "\n",
        "#list comprehension\n",
        "# ls=list(range(2000,4))\n",
        "# print([i**2 for i in ls])\n",
        "# print([i for i in ls if i%2==0])\n",
        "ls=[2000,2001,2002,2004,2005,2012]\n",
        "print([i for i in ls if i%4==0 if i%100==0 or i%400!=0])"
      ],
      "metadata": {
        "id": "9MfZ_ky2XKHl",
        "colab": {
          "base_uri": "https://localhost:8080/"
        },
        "outputId": "15a9f7d7-f237-4262-abf7-54441cd4fb33"
      },
      "execution_count": null,
      "outputs": [
        {
          "output_type": "stream",
          "name": "stdout",
          "text": [
            "[2000, 2004, 2012]\n"
          ]
        }
      ]
    },
    {
      "cell_type": "code",
      "source": [
        "# ls=[23,34,55]\n",
        "# ls.sort(reverse=True)\n",
        "# print(\"\".join(list(map(str,ls))))"
      ],
      "metadata": {
        "id": "-ahOYZE2pkjP"
      },
      "execution_count": null,
      "outputs": []
    },
    {
      "cell_type": "code",
      "source": [
        "\n",
        "# Application Logo\n",
        "# Assignment on List - Level 2 (Puzzle)\n",
        "#lex_auth_01269441913243238467\n",
        "\n",
        "def create_largest_number(number_list):\n",
        "    number_list.sort(reverse=True)\n",
        "    return int(\"\".join(list(map(str,number_list))))\n",
        "\n",
        "number_list=[23,45,67]\n",
        "largest_number=create_largest_number(number_list)\n",
        "print(largest_number)"
      ],
      "metadata": {
        "colab": {
          "base_uri": "https://localhost:8080/"
        },
        "id": "ZKr19_j-1tWb",
        "outputId": "bea7b063-ac6a-4445-d109-cb7b1d7698aa"
      },
      "execution_count": null,
      "outputs": [
        {
          "output_type": "stream",
          "name": "stdout",
          "text": [
            "674523\n"
          ]
        }
      ]
    },
    {
      "cell_type": "code",
      "source": [
        "# strip\n",
        "# capitalize/title\n",
        "ls=['   baNana', '    logonBerry']\n",
        "for i in ls:\n",
        "  print(i.strip().capitalize())"
      ],
      "metadata": {
        "colab": {
          "base_uri": "https://localhost:8080/"
        },
        "id": "W3DMIX024rm7",
        "outputId": "08a5b904-46c0-41f5-f4c3-976ae4e92563"
      },
      "execution_count": null,
      "outputs": [
        {
          "output_type": "stream",
          "name": "stdout",
          "text": [
            "Banana\n",
            "Logonberry\n"
          ]
        }
      ]
    },
    {
      "cell_type": "code",
      "source": [
        "ls=['   baNana', '    logonBerry']\n",
        "# for i,j in enumerate(ls):\n",
        "#   ls[i]=j.strip().capitalize()\n",
        "# print(ls)\n",
        "\n",
        "print([i for i in ls if i%4==0 if i%100==0 or i%400!=0])"
      ],
      "metadata": {
        "colab": {
          "base_uri": "https://localhost:8080/"
        },
        "id": "v9Ye5NFf86vs",
        "outputId": "1fe24aca-860d-4527-d1f5-65a9f7ab4a2c"
      },
      "execution_count": null,
      "outputs": [
        {
          "output_type": "stream",
          "name": "stdout",
          "text": [
            "['Banana', 'Logonberry']\n"
          ]
        }
      ]
    },
    {
      "cell_type": "code",
      "source": [
        "dir(dict)"
      ],
      "metadata": {
        "id": "lydhnImQTaxT"
      },
      "execution_count": null,
      "outputs": []
    },
    {
      "cell_type": "code",
      "source": [
        "# Exercise on Dictionary - Level 1\n",
        "# b={\"merry\":\"god\", \"christmas\":\"jul\", \"and\":\"och\", \"happy\":\"gott\", \"new\":\"nytt\", \"year\":\"ar\"}\n",
        "# search=input(\"Enter word \")\n",
        "# print(b.get(search))\n",
        "\n",
        "#lex_auth_012693774187716608134\n",
        "\n",
        "def translate(bilingual_dict,english_words_list):\n",
        "    swedish_words_list = []\n",
        "    for i in english_words_list:\n",
        "        swedish_words_list.append(bilingual_dict.get(i))\n",
        "\n",
        "\n",
        "    return swedish_words_list\n",
        "\n",
        "\n",
        "bilingual_dict= {\"merry\":\"god\", \"christmas\":\"jul\", \"and\":\"och\", \"happy\":\"gott\", \"new\":\"nytt\", \"year\":\"ar\"}\n",
        "english_words_list=[\"merry\",\"christmas\"]\n",
        "print(\"The bilingual dict is:\",bilingual_dict)\n",
        "print(\"The english words are:\",english_words_list)\n",
        "\n",
        "swedish_words_list=translate(bilingual_dict, english_words_list)\n",
        "print(\"The equivalent swedish words are:\",swedish_words_list)"
      ],
      "metadata": {
        "colab": {
          "base_uri": "https://localhost:8080/"
        },
        "id": "nEgmDWrwUVnq",
        "outputId": "b4b99fbd-26f8-4a4c-ff52-7e998b248fcb"
      },
      "execution_count": null,
      "outputs": [
        {
          "output_type": "stream",
          "name": "stdout",
          "text": [
            "The bilingual dict is: {'merry': 'god', 'christmas': 'jul', 'and': 'och', 'happy': 'gott', 'new': 'nytt', 'year': 'ar'}\n",
            "The english words are: ['merry', 'christmas']\n",
            "The equivalent swedish words are: ['god', 'jul']\n"
          ]
        }
      ]
    },
    {
      "cell_type": "code",
      "source": [
        "#lex_auth_01269444890062848087\n",
        "# Application Logo\n",
        "# Assignment on Dictionary - Level 2\n",
        "# def find_correct(word_dict):\n",
        "#   count=0\n",
        "#   for i in word_dict:\n",
        "#     if(i)==word_dict.get(i):\n",
        "#       count+=1\n",
        "#     else:\n",
        "#       for j in i:\n",
        "#         print(word_dict.get(i)[j])\n",
        "\n",
        "#   return count\n",
        "\n",
        "def find_correct(word_dict):\n",
        "  for i, j in word_dict(zip(a,b)):\n",
        "    print(i,j)\n",
        "\n",
        "\n",
        "word_dict={\"THEIR\": \"THEIR\",\"BUSINESS\":\"BISINESS\",\"WINDOWS\":\"WINDMILL\",\"WERE\":\"WEAR\",\"SAMPLE\":\"SAMPLE\"}\n",
        "print(find_correct(word_dict))"
      ],
      "metadata": {
        "colab": {
          "base_uri": "https://localhost:8080/",
          "height": 368
        },
        "id": "eLcfp80ec3Cc",
        "outputId": "258c8c51-ffa4-42b8-dd45-c09cf0a812d7"
      },
      "execution_count": null,
      "outputs": [
        {
          "output_type": "error",
          "ename": "NameError",
          "evalue": "ignored",
          "traceback": [
            "\u001b[0;31m---------------------------------------------------------------------------\u001b[0m",
            "\u001b[0;31mNameError\u001b[0m                                 Traceback (most recent call last)",
            "\u001b[0;32m<ipython-input-33-63cc17298d3a>\u001b[0m in \u001b[0;36m<cell line: 21>\u001b[0;34m()\u001b[0m\n\u001b[1;32m     19\u001b[0m \u001b[0;34m\u001b[0m\u001b[0m\n\u001b[1;32m     20\u001b[0m \u001b[0mword_dict\u001b[0m\u001b[0;34m=\u001b[0m\u001b[0;34m{\u001b[0m\u001b[0;34m\"THEIR\"\u001b[0m\u001b[0;34m:\u001b[0m \u001b[0;34m\"THEIR\"\u001b[0m\u001b[0;34m,\u001b[0m\u001b[0;34m\"BUSINESS\"\u001b[0m\u001b[0;34m:\u001b[0m\u001b[0;34m\"BISINESS\"\u001b[0m\u001b[0;34m,\u001b[0m\u001b[0;34m\"WINDOWS\"\u001b[0m\u001b[0;34m:\u001b[0m\u001b[0;34m\"WINDMILL\"\u001b[0m\u001b[0;34m,\u001b[0m\u001b[0;34m\"WERE\"\u001b[0m\u001b[0;34m:\u001b[0m\u001b[0;34m\"WEAR\"\u001b[0m\u001b[0;34m,\u001b[0m\u001b[0;34m\"SAMPLE\"\u001b[0m\u001b[0;34m:\u001b[0m\u001b[0;34m\"SAMPLE\"\u001b[0m\u001b[0;34m}\u001b[0m\u001b[0;34m\u001b[0m\u001b[0;34m\u001b[0m\u001b[0m\n\u001b[0;32m---> 21\u001b[0;31m \u001b[0mprint\u001b[0m\u001b[0;34m(\u001b[0m\u001b[0mfind_correct\u001b[0m\u001b[0;34m(\u001b[0m\u001b[0mword_dict\u001b[0m\u001b[0;34m)\u001b[0m\u001b[0;34m)\u001b[0m\u001b[0;34m\u001b[0m\u001b[0;34m\u001b[0m\u001b[0m\n\u001b[0m",
            "\u001b[0;32m<ipython-input-33-63cc17298d3a>\u001b[0m in \u001b[0;36mfind_correct\u001b[0;34m(word_dict)\u001b[0m\n\u001b[1;32m     14\u001b[0m \u001b[0;34m\u001b[0m\u001b[0m\n\u001b[1;32m     15\u001b[0m \u001b[0;32mdef\u001b[0m \u001b[0mfind_correct\u001b[0m\u001b[0;34m(\u001b[0m\u001b[0mword_dict\u001b[0m\u001b[0;34m)\u001b[0m\u001b[0;34m:\u001b[0m\u001b[0;34m\u001b[0m\u001b[0;34m\u001b[0m\u001b[0m\n\u001b[0;32m---> 16\u001b[0;31m   \u001b[0;32mfor\u001b[0m \u001b[0mi\u001b[0m\u001b[0;34m,\u001b[0m \u001b[0mj\u001b[0m \u001b[0;32min\u001b[0m \u001b[0mword_dict\u001b[0m\u001b[0;34m(\u001b[0m\u001b[0mzip\u001b[0m\u001b[0;34m(\u001b[0m\u001b[0ma\u001b[0m\u001b[0;34m,\u001b[0m\u001b[0mb\u001b[0m\u001b[0;34m)\u001b[0m\u001b[0;34m)\u001b[0m\u001b[0;34m:\u001b[0m\u001b[0;34m\u001b[0m\u001b[0;34m\u001b[0m\u001b[0m\n\u001b[0m\u001b[1;32m     17\u001b[0m     \u001b[0mprint\u001b[0m\u001b[0;34m(\u001b[0m\u001b[0mi\u001b[0m\u001b[0;34m,\u001b[0m\u001b[0mj\u001b[0m\u001b[0;34m)\u001b[0m\u001b[0;34m\u001b[0m\u001b[0;34m\u001b[0m\u001b[0m\n\u001b[1;32m     18\u001b[0m \u001b[0;34m\u001b[0m\u001b[0m\n",
            "\u001b[0;31mNameError\u001b[0m: name 'a' is not defined"
          ]
        }
      ]
    },
    {
      "cell_type": "code",
      "source": [
        "words=data.spilit()\n",
        "d={}\n",
        "for i in words:\n",
        "  if i not in d:\n",
        "    d[i]=1\n",
        "  else:\n",
        "    d[i]+=1\n",
        "print(d)"
      ],
      "metadata": {
        "id": "3I5b4fT8niKk"
      },
      "execution_count": null,
      "outputs": []
    },
    {
      "cell_type": "code",
      "source": [
        "#Practice Problem 36 - Level 2\n",
        "input_string=\"we dont need no education we dont need no thought control no we dont\"\n",
        "target_list=[]\n",
        "x=input_string.split(' ')\n",
        "count=0\n",
        "for i in x:\n",
        "  if i=='dont':\n",
        "    target_list.append(count)\n",
        "  count+=1\n",
        "print(target_list)\n",
        "\n",
        "\n",
        "\n",
        "# result_dict=find_inverted_index(input_string)\n",
        "# print(result_dict)\n",
        "\n"
      ],
      "metadata": {
        "colab": {
          "base_uri": "https://localhost:8080/"
        },
        "id": "LqXAQlp7cbiD",
        "outputId": "08ef2b29-d3b7-44aa-e764-f0701a877157"
      },
      "execution_count": null,
      "outputs": [
        {
          "output_type": "stream",
          "name": "stdout",
          "text": [
            "[1, 6, 13]\n"
          ]
        }
      ]
    },
    {
      "cell_type": "markdown",
      "source": [
        "# **3 june OOP**"
      ],
      "metadata": {
        "id": "fimZRK7Bt3Qq"
      }
    },
    {
      "cell_type": "markdown",
      "source": [
        "Problem Statement\n",
        "\n",
        "WeCare insurance company wants to calculate premium of vehicles.\n",
        "Vehicles are of two types – \"Two Wheeler\" and \"Four Wheeler\". Each vehicle is identified by vehicle id, type, cost and premium amount.\n",
        "Premium amount is 2% of the vehicle cost for two wheelers and 6% of the vehicle cost for four wheelers. Calculate the premium amount and display the vehicle details.\n",
        "\n",
        "Identify the class name and attributes to represent vehicles.\n",
        "\n",
        "    calculate_premium()\n",
        "    vehicle_cost\n",
        "    TwoWheeler\n",
        "    vehicle_type\n",
        "    vehicle_id\n",
        "    Vehicle\n",
        "    premium_amount\n",
        "    FourWheeler\n",
        "    premium_percentage\n",
        "    calculate_vehicle_cost()\n",
        "    __init__()\n",
        "    display_vehicle_details()\n",
        "\n",
        "Write a Python program to implement the class chosen with its attributes and methods.\n",
        "\n",
        "Note:\n",
        "\n",
        "    Consider all instance variables to be private and methods to be public\n",
        "    Include getter and setter methods for all instance variables\n",
        "    Display appropriate error message, if the vehicle type is invalid\n",
        "    Perform case sensitive string comparison\n",
        "\n",
        "Represent few objects of the class, initialize instance variables using setter methods, invoke appropriate methods and test your program.\n"
      ],
      "metadata": {
        "id": "Q7AxekHw0C1c"
      }
    },
    {
      "cell_type": "code",
      "source": [
        "#class name first letter should capital\n",
        "class Human:\n",
        "  def __init__(self):\n",
        "    self.__age = 0  # private\n",
        "    self.name='xyz' #public\n",
        "  def get_name(self):\n",
        "    return self.name\n",
        "  def set_age(self,age):\n",
        "    self.__age=age\n",
        "  def set_name(self,name):\n",
        "    self.__name=name\n",
        "  def get_age(self):\n",
        "    return self.__age\n",
        "  def speak(self, message=\"Hi\"):\n",
        "    print(f\"{self.name} says {message}\")\n",
        "\n",
        "h=Human()\n",
        "# print(h.get_name())\n",
        "# print(h.age)\n",
        "# print(Human().name)\n",
        "h.set_name('Ganesh')\n",
        "print(h.get_name())\n",
        "h.set_age(21)\n",
        "print(h.get_age())\n",
        "h.speak()\n",
        "h.speak(\"Hello\")\n"
      ],
      "metadata": {
        "colab": {
          "base_uri": "https://localhost:8080/"
        },
        "id": "yMZxuQeB0EUa",
        "outputId": "9e0ab055-6c60-4f0e-fcdd-549c04e05e37"
      },
      "execution_count": null,
      "outputs": [
        {
          "output_type": "stream",
          "name": "stdout",
          "text": [
            "xyz\n",
            "21\n",
            "xyz says Hi\n",
            "xyz says Hello\n"
          ]
        }
      ]
    },
    {
      "cell_type": "code",
      "source": [
        "class Vehicle:\n",
        "  def __init__(self):\n",
        "    self.vehicle_cost"
      ],
      "metadata": {
        "id": "IVYkapldEdrd"
      },
      "execution_count": null,
      "outputs": []
    },
    {
      "cell_type": "code",
      "source": [
        "class Dog:\n",
        "  species = \"canines\" #static or class variable\n",
        "  def __init__(self, name, color, activities):\n",
        "    self.__name = name\n",
        "    self.__age = None\n",
        "    self.__height = None\n",
        "    self.__weight = None\n",
        "    self.__color = color\n",
        "    self.__activities = activities\n",
        "  def get_name(self):\n",
        "    return self.__name\n",
        "\n",
        "  def bark(self):\n",
        "    print(self.__name,\"is barking\")\n",
        "\n",
        "  def __str__(self):\n",
        "    return f\"Hi, I am {self.__name} of {Dog.species}\"\n",
        "\n",
        "d1=Dog(\"Jimmy\", \"Brown\", [\"sleep\", \"Play\", \"fetch\"])\n",
        "d2=Dog(\"Don\", \"black\", \"fetch\")\n",
        "print(d1)\n",
        "print(d2)\n"
      ],
      "metadata": {
        "colab": {
          "base_uri": "https://localhost:8080/"
        },
        "id": "aLIDW3zl-C_U",
        "outputId": "6671853b-e86f-45a2-ac5e-25781210dd39"
      },
      "execution_count": null,
      "outputs": [
        {
          "output_type": "stream",
          "name": "stdout",
          "text": [
            "Hi, I am Jimmy of canines\n",
            "Hi, I am Don of canines\n"
          ]
        }
      ]
    },
    {
      "cell_type": "code",
      "source": [
        "class Car:\n",
        "  carCount =0\n",
        "\n",
        "  def __init__(self, name, year):\n",
        "    self.name =name\n",
        "    self.year = year\n",
        "    #self.carCount +=1 it will start from zero\n",
        "    Car.carCount +=1\n",
        "\n",
        "  def displayCount(self):\n",
        "    print(\"Total Car %d\" % Car.carCount)\n",
        "\n",
        "  def displayCar(self):\n",
        "    print(\"Name: \",self.name, \", Year: \", self.year)\n",
        "c1=Car(\"Honda\", 2000)\n",
        "c2=Car(\"Honda\", 2000)\n",
        "c1.displayCar()\n",
        "c2.displayCar()\n",
        "print(\"Total Car %d\" % Car.carCount)"
      ],
      "metadata": {
        "colab": {
          "base_uri": "https://localhost:8080/"
        },
        "id": "NayKcTGwGNcf",
        "outputId": "3c36c135-1688-4b4e-9cdd-88e494b0e47f"
      },
      "execution_count": null,
      "outputs": [
        {
          "output_type": "stream",
          "name": "stdout",
          "text": [
            "Name:  Honda , Year:  2000\n",
            "Name:  Honda , Year:  2000\n",
            "Total Car 2\n"
          ]
        }
      ]
    },
    {
      "cell_type": "code",
      "source": [
        "class Bill:\n",
        "  def __init__(self, bill_id, patient_name, bill_amount):\n",
        "    self.__bill_id = bill_id\n",
        "    self.__patient_name = patient_name\n",
        "    self.__bill_amount = None #not passing any parameter\n",
        "\n",
        "  def calculate_bill_amount(self, consulatation_fees, quantity_list, price_list, bill_amount):\n",
        "    total_bill=0.0\n",
        "    for quantity, price in zip(quantity_list, price_list):\n",
        "      total_bill += quantity * price\n",
        "      self.__bill_amount=total_bill + consulatation_fees\n",
        "\n",
        "\n",
        "  def get_bill_id(self):\n",
        "    return self.__bill_id\n",
        "\n",
        "  def get_patient_name(self):\n",
        "    return self.__patient_name\n",
        "\n",
        "  def get_bill_amount(self):\n",
        "    return self.__bill_amount\n",
        "\n",
        "b1=Bill(1, 'ganesh', 12000)\n",
        "b1.get_patient_name()\n"
      ],
      "metadata": {
        "id": "pnPmR09WJPIl",
        "colab": {
          "base_uri": "https://localhost:8080/",
          "height": 35
        },
        "outputId": "ef021cdb-7c62-48bb-e6d8-274b29754c0d"
      },
      "execution_count": null,
      "outputs": [
        {
          "output_type": "execute_result",
          "data": {
            "text/plain": [
              "'ganesh'"
            ],
            "application/vnd.google.colaboratory.intrinsic+json": {
              "type": "string"
            }
          },
          "metadata": {},
          "execution_count": 42
        }
      ]
    },
    {
      "cell_type": "code",
      "source": [],
      "metadata": {
        "id": "nOhpuekB7h6O"
      },
      "execution_count": null,
      "outputs": []
    },
    {
      "cell_type": "code",
      "source": [
        "#inheritance\n",
        "class Phone:\n",
        "  def __init__(self, price, brand, camera):\n",
        "    self.__price=price\n",
        "    self.brand=brand\n",
        "    self.camera=camera\n",
        "  def buy(self):\n",
        "    print(\"Buying a phone\")\n",
        "  def return_phone(self):\n",
        "    print(\"return phone\")\n",
        "\n",
        "class FeaturePhone(Phone):\n",
        "  pass\n",
        "\n",
        "class SmartPhone(Phone):\n",
        "  def __init__(self, os, ram):\n",
        "    self.os=os\n",
        "    self.ram=ram\n",
        "    print(\"Inside smartphone constructor\")\n",
        "  def buy(self):\n",
        "    print(\"Buying a Smartphone\")\n",
        "\n",
        "p=Phone(100,'abc',12)\n",
        "p.buy()\n",
        "#method overriding\n",
        "s=SmartPhone('Android', 2)#properties of child class\n",
        "s.buy()"
      ],
      "metadata": {
        "colab": {
          "base_uri": "https://localhost:8080/"
        },
        "id": "yNeMp2VVzRnF",
        "outputId": "738e25e6-a4c3-428c-855f-f1cb9373a7b0"
      },
      "execution_count": null,
      "outputs": [
        {
          "output_type": "stream",
          "name": "stdout",
          "text": [
            "Buying a phone\n",
            "Inside smartphone constructor\n",
            "Buying a Smartphone\n"
          ]
        }
      ]
    },
    {
      "cell_type": "code",
      "source": [
        "#https://infytq.onwingspan.com/web/en/viewer/hands-on/lex_auth_0127475574441738242319_shared?collectionId=lex_auth_0125409722749255681063_shared&collectionType=Course&pathId=lex_auth_0127475183546941442110_shared\n",
        "class Rider:\n",
        "  def __init__(self, trained_status, experience):\n",
        "    #method\n",
        "    self.__experience=experience\n",
        "    self.__trained_status=trained_status\n",
        "\n",
        "  def rides_vehicle(self):\n",
        "    pass\n",
        "class BikeRider(Rider):\n",
        "  def __init__(self, trained_status, experience, race_license):\n",
        "    super().__init__(trained_status, experience)\n",
        "    self.__race_license=race_license\n",
        "\n",
        "  def rides_in_dome(self):\n",
        "    pass\n",
        "\n",
        "class CycleRider(Rider):\n",
        "  def rides_blindfolded(self):\n",
        "    pass\n"
      ],
      "metadata": {
        "id": "qBc3NyS17jT8"
      },
      "execution_count": null,
      "outputs": []
    },
    {
      "cell_type": "code",
      "source": [
        "class Customer:\n",
        "    def __init__(self, name, age, phone_no, address):\n",
        "        self.name = name\n",
        "        self.age = age\n",
        "        self.phone_no = phone_no\n",
        "        self.address = address\n",
        "\n",
        "    def view_details(self):\n",
        "        print (self.name, self.age, self.phone_no)\n",
        "        print (self.address.door_no, self.address.street, self.address.pincode) # pass by reference\n",
        "\n",
        "    def update_details(self,add):\n",
        "        self.address = add\n",
        "\n",
        "class Address:\n",
        "    def __init__(self, door_no, street, pincode):\n",
        "        self.door_no = door_no\n",
        "        self.street = street\n",
        "        self.pincode = pincode\n",
        "\n",
        "    def update_address(self):\n",
        "        pass\n",
        "\n",
        "add1=Address(123, \"5th Lane\", 56001)\n",
        "add2=Address(567, \"6th Lane\", 82006)\n",
        "cus1=Customer(\"Jack\", 24, 1234, add1)\n",
        "\n",
        "cus1.view_details()\n",
        "\n",
        "cus1.update_details(add2)\n",
        "\n",
        "cus1.view_details()\n"
      ],
      "metadata": {
        "colab": {
          "base_uri": "https://localhost:8080/"
        },
        "id": "CFsLJhir-JWE",
        "outputId": "88e5fc2f-02f5-4c9b-a92f-e0acb57dbe14"
      },
      "execution_count": null,
      "outputs": [
        {
          "output_type": "stream",
          "name": "stdout",
          "text": [
            "Jack 24 1234\n",
            "123 5th Lane 56001\n",
            "Jack 24 1234\n",
            "567 6th Lane 82006\n"
          ]
        }
      ]
    },
    {
      "cell_type": "code",
      "source": [
        "class Customer:\n",
        "    def __init__(self, name, age, phone_no, address):\n",
        "        self.name = name\n",
        "        self.age = age\n",
        "        self.phone_no = phone_no\n",
        "        self.address = address\n",
        "\n",
        "    def view_details(self):\n",
        "        print (self.name, self.age, self.phone_no)\n",
        "        print (self.address.__door_no, self.address.__street, self.address.__pincode) #private can't acccess\n",
        "\n",
        "class Address:\n",
        "    def __init__(self, door_no, street, pincode):\n",
        "        self.__door_no = door_no\n",
        "        self.__street = street\n",
        "        self.__pincode = pincode\n",
        "\n",
        "    def update_address(self):\n",
        "        pass\n",
        "\n",
        "add1=Address(123, \"5th Lane\", 56001)\n",
        "cus1=Customer(\"Jack\", 24, 1234, add1)\n",
        "\n",
        "cus1.view_details()\n"
      ],
      "metadata": {
        "id": "BbjrLL_lOPzZ"
      },
      "execution_count": null,
      "outputs": []
    },
    {
      "cell_type": "code",
      "source": [
        "# https://infytq.onwingspan.com/web/en/viewer/class-diagram/lex_auth_012759593962463232303_shared?collectionId=lex_auth_0125409722749255681063_shared&collectionType=Course&pathId=lex_auth_012746915977322496268_shared\n",
        "# class dependency\n",
        "\n",
        "\n",
        "class Company:\n",
        "    def __init__(self, name, year, ceo):\n",
        "        self.__name = name\n",
        "        self.__year = year\n",
        "        self.__ceo = ceo\n",
        "\n",
        "    def deliver_goods(self, courier):\n",
        "        print(f\"{courier.get_name()} is delivering your product today!\")\n",
        "\n",
        "class Courier():\n",
        "    def __init__(self, name, address):\n",
        "        self.__name = name\n",
        "        self.__address = address\n",
        "\n",
        "    def get_name(self):\n",
        "        return self.__name\n",
        "\n",
        "courier = Courier(\"XY Logistics\", \"Mumbai\")\n",
        "\n",
        "company = Company(\"X\", \"Mr. X\", 1990)\n",
        "company.deliver_goods(courier)\n"
      ],
      "metadata": {
        "colab": {
          "base_uri": "https://localhost:8080/"
        },
        "id": "J27iGZURPDTi",
        "outputId": "695acb5b-18a8-4a74-ffd0-deed9bf5e555"
      },
      "execution_count": null,
      "outputs": [
        {
          "output_type": "stream",
          "name": "stdout",
          "text": [
            "XY Logistics is delivering your product today!\n"
          ]
        }
      ]
    },
    {
      "cell_type": "code",
      "source": [
        "#lex_auth_0127135869481369601150\n",
        "nums=[0,1,2,3,4,5]\n",
        "a=[1,2,3]\n",
        "count=0\n",
        "\n",
        "for i in nums:\n",
        "  for j in a:\n",
        "    if i!=j:\n",
        "      count+=1\n",
        "      print(count)\n",
        "    else:\n",
        "      print(False)\n",
        "\n"
      ],
      "metadata": {
        "id": "YlfBVK4zZJ_8",
        "colab": {
          "base_uri": "https://localhost:8080/"
        },
        "outputId": "80de601d-48a9-4b07-b5f3-a256cbe4d14f"
      },
      "execution_count": null,
      "outputs": [
        {
          "output_type": "stream",
          "name": "stdout",
          "text": [
            "1\n",
            "2\n",
            "3\n",
            "False\n",
            "4\n",
            "5\n",
            "6\n",
            "False\n",
            "7\n",
            "8\n",
            "9\n",
            "False\n",
            "10\n",
            "11\n",
            "12\n",
            "13\n",
            "14\n",
            "15\n"
          ]
        }
      ]
    },
    {
      "cell_type": "code",
      "source": [
        "# https://colab.research.google.com/drive/1RPUiYjLwtgqVk7D_3egt78OSXNANltjA#scrollTo=mg8AN2OMDul_\n",
        "def generate_dict(number):\n",
        "  new_dict={}\n",
        "  for i in range(1, number+1):\n",
        "    new_dict.update({i:i**2})\n",
        "  return new_dict\n",
        "\n",
        "number=4\n",
        "print(generate_dict(number))"
      ],
      "metadata": {
        "colab": {
          "base_uri": "https://localhost:8080/"
        },
        "id": "mg8AN2OMDul_",
        "outputId": "b9bdcfa0-b150-4f9d-8302-3c8b9fe8e4ea"
      },
      "execution_count": null,
      "outputs": [
        {
          "output_type": "stream",
          "name": "stdout",
          "text": [
            "{1: 1, 2: 4, 3: 9, 4: 16}\n"
          ]
        }
      ]
    },
    {
      "cell_type": "code",
      "source": [
        "# https://infytq.onwingspan.com/web/en/viewer/hands-on/lex_auth_0127135945621340161163_shared?collectionId=lex_auth_012734003600908288382_shared&collectionType=Course&pathId=lex_auth_0127136535829708801223_shared,lex_auth_0127136565048360961224_shared\n",
        "def string_both_ends(input_string):\n",
        "\tif len(input_string)==2:\n",
        "\n",
        "return input_string\n",
        "\n",
        "\n",
        "input_string=\"w3w\"\n",
        "print(string_both_ends(input_string))"
      ],
      "metadata": {
        "id": "YYH130eGHVWI"
      },
      "execution_count": null,
      "outputs": []
    },
    {
      "cell_type": "code",
      "source": [
        "# https://infytq.onwingspan.com/web/en/viewer/hands-on/lex_auth_0127136021907046401165_shared?collectionId=lex_auth_012734003600908288382_shared&collectionType=Course&pathId=lex_auth_0127136535829708801223_shared,lex_auth_0127136565048360961224_shared\n",
        "def find_upper_and_lower(sentence):\n",
        "    result_list=[]\n",
        "    u=0\n",
        "    l=0\n",
        "    for i in sentence:\n",
        "      if(i.isupper()):\n",
        "        u+=1\n",
        "      elif(i.islower()):\n",
        "        l+=1\n",
        "    result_list.append(u)\n",
        "    result_list.append(l)\n",
        "    return result_list\n",
        "sentence=\"Hello world!\"\n",
        "print(find_upper_and_lower(sentence))"
      ],
      "metadata": {
        "colab": {
          "base_uri": "https://localhost:8080/"
        },
        "id": "5rJXnhOfJjzB",
        "outputId": "fe036dfd-4326-42b5-d6cd-f5d93d7e335c"
      },
      "execution_count": null,
      "outputs": [
        {
          "output_type": "stream",
          "name": "stdout",
          "text": [
            "[1, 9]\n"
          ]
        }
      ]
    },
    {
      "cell_type": "code",
      "source": [
        "#lex_auth_0127136011356405761166\n",
        "\n",
        "def generate_sentences(subjects,verbs,objects):\n",
        "  sentence_list=[]\n",
        "  sentence=\"\"\n",
        "  for i in subjects:\n",
        "    for j in verbs:\n",
        "      for k in objects:\n",
        "        sentence=i+\" \"+j+\" \"+k\n",
        "        sentence_list.append(sentence)\n",
        "        # sentence_list.append(j)\n",
        "        # sentence_list.append(k)\n",
        "\n",
        "\n",
        "\n",
        "    return sentence_list\n",
        "\n",
        "subjects=['I', 'You']\n",
        "verbs=['love', 'want']\n",
        "objects=['chocolates', 'coffee']\n",
        "print(generate_sentences(subjects,verbs,objects))"
      ],
      "metadata": {
        "colab": {
          "base_uri": "https://localhost:8080/"
        },
        "id": "ZcOM5RNLMD5p",
        "outputId": "4d1fa61d-c2e0-4fe7-8ccb-f9e3f0f8b097"
      },
      "execution_count": null,
      "outputs": [
        {
          "output_type": "stream",
          "name": "stdout",
          "text": [
            "['I love chocolates', 'I love coffee', 'I want chocolates', 'I want coffee']\n"
          ]
        }
      ]
    },
    {
      "cell_type": "code",
      "source": [
        "best = [12, 12, 1998]\n",
        "best.extend([\"milan\"])\n",
        "best.append(\"programmer\")\n",
        "best"
      ],
      "metadata": {
        "colab": {
          "base_uri": "https://localhost:8080/"
        },
        "id": "MvAfzKvaO-Vy",
        "outputId": "77640511-af65-4a6c-a2c8-a9475eb79cae"
      },
      "execution_count": null,
      "outputs": [
        {
          "output_type": "execute_result",
          "data": {
            "text/plain": [
              "[12, 12, 1998, 'milan', 'programmer']"
            ]
          },
          "metadata": {},
          "execution_count": 65
        }
      ]
    }
  ]
}